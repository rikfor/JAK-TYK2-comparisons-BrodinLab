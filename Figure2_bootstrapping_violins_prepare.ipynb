{
 "cells": [
  {
   "cell_type": "code",
   "execution_count": null,
   "id": "de652152-3d4f-4d65-84db-dc0166edd66a",
   "metadata": {},
   "outputs": [],
   "source": [
    "# Code to reproduce figure 2c in Forlin, Mebrahtu et al"
   ]
  },
  {
   "cell_type": "code",
   "execution_count": null,
   "id": "3d939077-5ed7-4f90-854f-f719b22a40ee",
   "metadata": {
    "tags": []
   },
   "outputs": [],
   "source": [
    "import warnings\n",
    "warnings.filterwarnings(\"ignore\")\n",
    "import ast\n",
    "import pandas as pd\n",
    "import numpy as np\n",
    "import matplotlib.pyplot as plt\n",
    "import scanpy as sc\n",
    "\n",
    "from scipy.stats import ttest_ind, mannwhitneyu\n",
    "from itertools import combinations\n",
    "from statsmodels.stats.multitest import multipletests\n",
    "\n"
   ]
  },
  {
   "cell_type": "code",
   "execution_count": null,
   "id": "f6534de7-4d28-4ac7-b18e-dff121e29a62",
   "metadata": {},
   "outputs": [],
   "source": [
    "data_path = #insert data path here\n",
    "adata = sc.read(data_path)\n",
    "sc.pp.normalize_total(adata, target_sum = 1e3)\n"
   ]
  },
  {
   "cell_type": "code",
   "execution_count": null,
   "id": "0e709aa0-8fcd-404e-9e1a-b9afaa6eb5d6",
   "metadata": {},
   "outputs": [],
   "source": [
    "df_cytos = pd.read_csv('./data/cytokine_genelist.csv', index_col = [0])\n",
    "hallmark_ifna = ast.literal_eval(df_cytos.loc[7, 'genes'])\n",
    "hallmark_ifnb = ast.literal_eval(df_cytos.loc[8, 'genes'])\n",
    "\n"
   ]
  },
  {
   "cell_type": "code",
   "execution_count": null,
   "id": "9dfe494e-ef2a-4051-92a2-ecbd8a1e5c85",
   "metadata": {},
   "outputs": [],
   "source": [
    "hallmark_list = [hallmark_ifna, hallmark_ifnb]\n",
    "\n",
    "for i, hallmark in enumerate(['hallmark_ifna', 'hallmark_ifnb']):\n",
    "    genes = hallmark_list[i]\n",
    "    df_bootstrapped = pd.DataFrame(columns = ['mean_value', 'CellType', 'treatment'])\n",
    "    for st in list(set(adata.obs.stim_treat_time)):\n",
    "        temp = adata[adata.obs.stim_treat_time == st]\n",
    "        for ct in ['B', 'CD4T', 'CD8T', 'Monocyte', 'DC', 'Eosinophil', 'NK', 'Neutrophil', 'pDC', 'Plasmablast']:\n",
    "            temp2 = temp[temp.obs.CellType == ct]\n",
    "            temp2 = temp2[:, temp2.var.index.isin(genes)].to_df()\n",
    "            \n",
    "            summ = np.sum(temp2, axis = 1)\n",
    "            df_ctrl = adata[(adata.obs.stim_treat_time == 'IFNb_Ctrl_2h')&(adata.obs.CellType == ct), adata.var.index.isin(genes)].to_df()\n",
    "            ctrl_summ = np.sum(df_ctrl, axis = 1)\n",
    "            \n",
    "            for i in range(100):\n",
    "                mean_value = np.mean(summ.sample(len(summ), replace = True))\n",
    "                df_bootstrapped.loc[st + '_' + ct + '_' + str(i)] = [mean_value, ct, st]\n",
    "    df_bootstrapped = df_bootstrapped.reset_index().drop('index', axis = 1)\n",
    "    df_bootstrapped['hallmark'] = hallmark\n",
    "    #df_bootstrapped.to_csv(f'./data/Figure2_{hallmark}_toR.csv', sep = ',')\n",
    "            "
   ]
  },
  {
   "cell_type": "code",
   "execution_count": null,
   "id": "8e209229-8a14-4fb8-80e1-44fa15962c8c",
   "metadata": {},
   "outputs": [],
   "source": [
    "df_bootstrapped"
   ]
  },
  {
   "cell_type": "code",
   "execution_count": null,
   "id": "ae77d67c-5741-45b5-97fc-fa3db766c20c",
   "metadata": {},
   "outputs": [],
   "source": [
    "#Get significance\n",
    "results = []\n",
    "\n",
    "# Group by hallmark and cell type\n",
    "for hallmark in df_bootstrapped['hallmark'].unique():\n",
    "    df_h = df_bootstrapped[df_bootstrapped['hallmark'] == hallmark]\n",
    "    \n",
    "    for cell in df_h['CellType'].unique():\n",
    "        df_c = df_h[df_h['CellType'] == cell]\n",
    "        treatments = df_c['treatment'].unique()\n",
    "        \n",
    "        for t1, t2 in combinations(treatments, 2):\n",
    "            values1 = df_c[df_c['treatment'] == t1]['mean_value']\n",
    "            values2 = df_c[df_c['treatment'] == t2]['mean_value']\n",
    "            \n",
    "            stat, pval = mannwhitneyu(values1, values2, alternative='two-sided')\n",
    "            \n",
    "            results.append({\n",
    "                'hallmark': hallmark,\n",
    "                'CellType': cell,\n",
    "                'treatment_1': t1,\n",
    "                'treatment_2': t2,\n",
    "                'statistic': stat,\n",
    "                'p_value': pval\n",
    "            })\n",
    "\n",
    "df_results = pd.DataFrame(results)\n",
    "\n",
    "# Multiple testing correction\n",
    "df_results['p_adj'] = multipletests(df_results['p_value'], method='bonferroni')[1]\n",
    "\n"
   ]
  },
  {
   "cell_type": "code",
   "execution_count": null,
   "id": "1b44c5b5-fc48-4ff3-a694-eb6c799acea9",
   "metadata": {},
   "outputs": [],
   "source": [
    "df_results"
   ]
  },
  {
   "cell_type": "code",
   "execution_count": null,
   "id": "1519f83c-3b3e-4cb6-a14d-a2f0b4820ee0",
   "metadata": {},
   "outputs": [],
   "source": []
  }
 ],
 "metadata": {
  "kernelspec": {
   "display_name": "Python 3 (ipykernel)",
   "language": "python",
   "name": "python3"
  },
  "language_info": {
   "codemirror_mode": {
    "name": "ipython",
    "version": 3
   },
   "file_extension": ".py",
   "mimetype": "text/x-python",
   "name": "python",
   "nbconvert_exporter": "python",
   "pygments_lexer": "ipython3",
   "version": "3.10.6"
  }
 },
 "nbformat": 4,
 "nbformat_minor": 5
}
