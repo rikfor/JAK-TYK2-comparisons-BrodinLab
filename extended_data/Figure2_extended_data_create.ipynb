{
 "cells": [
  {
   "cell_type": "code",
   "execution_count": null,
   "id": "8896b65d-ffcb-4fde-859b-b61e28f9dfcb",
   "metadata": {},
   "outputs": [],
   "source": [
    "import warnings\n",
    "warnings.filterwarnings(\"ignore\")\n",
    "import ast\n",
    "import pandas as pd\n",
    "import numpy as np\n",
    "import matplotlib.pyplot as plt\n",
    "import scanpy as sc\n",
    "\n",
    "\n",
    "from itertools import combinations\n",
    "from statsmodels.stats.multitest import multipletests\n",
    "from scipy.stats import ranksums\n"
   ]
  },
  {
   "cell_type": "code",
   "execution_count": null,
   "id": "6c51c6f4-26b0-4e41-a420-90255f1b7c43",
   "metadata": {},
   "outputs": [],
   "source": [
    "data_path = #insert data path here\n",
    "adata = sc.read(data_path)\n",
    "sc.pp.normalize_total(adata, target_sum = 1e3)\n",
    "df_cytos = pd.read_csv('.././data/cytokine_genelist.csv', index_col = [0])\n",
    "hallmark_ifna = ast.literal_eval(df_cytos.loc[7, 'genes'])\n",
    "hallmark_ifnb = ast.literal_eval(df_cytos.loc[8, 'genes'])\n",
    "\n"
   ]
  },
  {
   "cell_type": "code",
   "execution_count": null,
   "id": "fa91bee1-57ba-4f76-ba19-4c64070389f2",
   "metadata": {},
   "outputs": [],
   "source": [
    "# Define hallmark gene sets and names\n",
    "hallmark_list = [hallmark_ifna, hallmark_ifnb]\n",
    "hallmark_names = ['hallmark_ifna', 'hallmark_ifnb']\n",
    "\n",
    "# Store results\n",
    "all_vs_all_results = []\n",
    "\n",
    "# Loop over hallmark sets\n",
    "for hallmark_genes, hallmark_name in zip(hallmark_list, hallmark_names):\n",
    "    \n",
    "    for ct in ['B', 'CD4T', 'CD8T', 'Monocyte', 'DC', 'Eosinophil', 'NK', 'Neutrophil', 'pDC', 'Plasmablast']:\n",
    "        \n",
    "        # Filter to conditions where the cell type exists\n",
    "        conditions = set(\n",
    "            adata.obs[adata.obs.CellType == ct]['stim_treat_time']\n",
    "        )\n",
    "        \n",
    "        # Compare all pairs of conditions\n",
    "        for cond1, cond2 in combinations(conditions, 2):\n",
    "            # Get data for cond1\n",
    "            df1 = adata[(adata.obs.stim_treat_time == cond1) & \n",
    "                        (adata.obs.CellType == ct), \n",
    "                        adata.var.index.isin(hallmark_genes)].to_df()\n",
    "            df1_summed = df1.sum(axis=1)\n",
    "\n",
    "            # Get data for cond2\n",
    "            df2 = adata[(adata.obs.stim_treat_time == cond2) & \n",
    "                        (adata.obs.CellType == ct), \n",
    "                        adata.var.index.isin(hallmark_genes)].to_df()\n",
    "            df2_summed = df2.sum(axis=1)\n",
    "\n",
    "            # Skip if empty\n",
    "            if df1_summed.empty or df2_summed.empty:\n",
    "                continue\n",
    "\n",
    "            # Perform Wilcoxon rank-sum test\n",
    "            stat, pval = ranksums(df1_summed, df2_summed, alternative = 'two-sided')\n",
    "\n",
    "            # Store result\n",
    "            all_vs_all_results.append({\n",
    "                'hallmark': hallmark_name,\n",
    "                'CellType': ct,\n",
    "                'Condition1': cond1,\n",
    "                'Condition2': cond2,\n",
    "                'Statistic': stat,\n",
    "                'p-value': pval,\n",
    "                'mean1': df1_summed.mean(),\n",
    "                'mean2': df2_summed.mean()\n",
    "            })\n",
    "\n",
    "# Convert to DataFrame\n",
    "all_vs_all_df = pd.DataFrame(all_vs_all_results)\n",
    "\n",
    "all_vs_all_df['p_adj'] = multipletests(all_vs_all_df['p-value'], method='bonferroni')[1]\n"
   ]
  }
 ],
 "metadata": {
  "kernelspec": {
   "display_name": "Python 3 (ipykernel)",
   "language": "python",
   "name": "python3"
  },
  "language_info": {
   "codemirror_mode": {
    "name": "ipython",
    "version": 3
   },
   "file_extension": ".py",
   "mimetype": "text/x-python",
   "name": "python",
   "nbconvert_exporter": "python",
   "pygments_lexer": "ipython3",
   "version": "3.10.6"
  }
 },
 "nbformat": 4,
 "nbformat_minor": 5
}
